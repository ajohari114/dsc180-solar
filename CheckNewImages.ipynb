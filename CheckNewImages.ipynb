{
  "nbformat": 4,
  "nbformat_minor": 0,
  "metadata": {
    "colab": {
      "provenance": []
    },
    "kernelspec": {
      "name": "python3",
      "display_name": "Python 3"
    },
    "language_info": {
      "name": "python"
    }
  },
  "cells": [
    {
      "cell_type": "markdown",
      "source": [
        "Some Folder\n",
        "- Folder for all Gopro pictures (\"gopro_pics\")\n",
        "- Look up table csv (lookup.csv)\n",
        "- Colormetrics data csv (color_data.csv)"
      ],
      "metadata": {
        "id": "iiHDshCPT16W"
      }
    },
    {
      "cell_type": "code",
      "source": [
        "import os\n",
        "import pandas as pd\n",
        "\n",
        "def detectNewPics(fp):\n",
        "\n",
        "  #num_pics = len(os.listdir(os.path.join(fp, \"gopro_pics\")))\n",
        "  num_pics = 11 #for testing delete line later\n",
        "\n",
        "  #curr_data_len = len(pd.read_csv(os.path.join(fp, \"color_data.csv\")))\n",
        "\n",
        "  curr_data_len = 10 #for testing delete line later\n",
        "\n",
        "  return num_pics > curr_data_len\n"
      ],
      "metadata": {
        "id": "1BORGLyhT1-P"
      },
      "execution_count": 11,
      "outputs": []
    }
  ]
}