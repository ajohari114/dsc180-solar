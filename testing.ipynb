{
 "cells": [
  {
   "cell_type": "code",
   "execution_count": 62,
   "metadata": {},
   "outputs": [],
   "source": [
    "from py2neo import Node, Graph, Relationship\n",
    "import numpy as np\n",
    "import pandas as pd\n",
    "\n",
    "# Connect to your local neo4j database, I excluded authentication requirements for simplicity\n",
    "graph = Graph(\"bolt://localhost:7687\")"
   ]
  },
  {
   "cell_type": "code",
   "execution_count": 63,
   "metadata": {},
   "outputs": [],
   "source": [
    "dummy_nodes = [Node(\"dummy_node\", batch_id=\"batch_1\", sample_id=\"sample_1\", step_id = 27),\n",
    "               Node(\"dummy_node\", batch_id=\"batch_1\", sample_id=\"sample_2\", step_id = 27),\n",
    "               Node(\"dummy_node\", batch_id=\"batch_2\", sample_id=\"sample_1\", step_id = 27)]"
   ]
  },
  {
   "cell_type": "code",
   "execution_count": 64,
   "metadata": {},
   "outputs": [],
   "source": [
    "for dummy in dummy_nodes:\n",
    "    dummy['default_id'] = dummy.identity\n",
    "    graph.create(dummy)"
   ]
  },
  {
   "cell_type": "code",
   "execution_count": 65,
   "metadata": {},
   "outputs": [],
   "source": [
    "dummy_batch1 = pd.DataFrame(np.random.rand(10, 2))\n",
    "dummy_batch2 = pd.DataFrame(np.random.rand(10,1))\n",
    "dummy_batch1.rename(columns = {0:'sample_1', 1:'sample_2'}, inplace = True)\n",
    "dummy_batch2.rename(columns = {0:'sample_1'}, inplace = True)"
   ]
  },
  {
   "cell_type": "code",
   "execution_count": 79,
   "metadata": {},
   "outputs": [],
   "source": [
    "# function to pass in csv and append appropriate columns to nodes\n",
    "# csv will be converted to a dataframe beforehand\n",
    "def add_color_data(b_id, df, file_path: None):\n",
    "    samples= df.columns\n",
    "    for sample in samples:\n",
    "        data = list(df.loc[:, sample])\n",
    "        new_node = Node('dummy_data', action = 'char', batch_id = b_id, sample_id = sample, char_name = 'colormetrics', \\\n",
    "                        char_num_measurements = len(data), char_duration=len(data)*2, char_colormetrics = data, step_id = 32)\n",
    "        # find all nodes with a sample_id equal to that in the dataframe\n",
    "        sample_nodes = graph.run(\"MATCH (n:dummy_node {sample_id: $sample, batch_id: $batch, step_id: 27}) RETURN n\", sample = sample, batch = b_id)\n",
    "        graph.create(new_node)\n",
    "        # create relatinships between the node and data node\n",
    "        for node in sample_nodes:\n",
    "            existing_node = node['n']\n",
    "            relationship = Relationship(existing_node, 'NEXT', new_node)\n",
    "            graph.create(relationship)\n"
   ]
  },
  {
   "cell_type": "code",
   "execution_count": 81,
   "metadata": {},
   "outputs": [],
   "source": [
    "add_color_data('batch_1', dummy_batch1, None)\n",
    "add_color_data('batch_2', dummy_batch2, None)"
   ]
  }
 ],
 "metadata": {
  "kernelspec": {
   "display_name": "base",
   "language": "python",
   "name": "python3"
  },
  "language_info": {
   "codemirror_mode": {
    "name": "ipython",
    "version": 3
   },
   "file_extension": ".py",
   "mimetype": "text/x-python",
   "name": "python",
   "nbconvert_exporter": "python",
   "pygments_lexer": "ipython3",
   "version": "3.9.12"
  }
 },
 "nbformat": 4,
 "nbformat_minor": 2
}
